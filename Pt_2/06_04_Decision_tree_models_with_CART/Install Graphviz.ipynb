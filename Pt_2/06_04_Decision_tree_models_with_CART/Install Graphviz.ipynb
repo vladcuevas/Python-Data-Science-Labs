{
 "cells": [
  {
   "cell_type": "code",
   "execution_count": 1,
   "metadata": {},
   "outputs": [
    {
     "output_type": "execute_result",
     "data": {
      "text/plain": "'C:\\\\Users\\\\Vladimir\\\\AppData\\\\Local\\\\Programs\\\\Python\\\\Python37\\\\lib\\\\site-packages\\\\pywin32_system32;C:\\\\Users\\\\Vladimir\\\\AppData\\\\Local\\\\Programs\\\\Python\\\\Python37\\\\lib\\\\site-packages\\\\pywin32_system32;G:\\\\opencv-4.3.0\\\\Installation\\\\x64\\\\vc16\\\\bin;C:\\\\Users\\\\Vladimir\\\\AppData\\\\Local\\\\Programs\\\\Python\\\\Python37\\\\Scripts\\\\;C:\\\\Users\\\\Vladimir\\\\AppData\\\\Local\\\\Programs\\\\Python\\\\Python37;C:\\\\Program Files\\\\dotnet\\\\;C:\\\\Program Files\\\\Git\\\\cmd;C:\\\\Program Files\\\\Intel\\\\iCLS Client\\\\;C:\\\\Program Files\\\\Intel\\\\Intel(R) Management Engine Components\\\\DAL;C:\\\\Program Files\\\\Intel\\\\Intel(R) Management Engine Components\\\\IPT;C:\\\\Program Files\\\\Microsoft MPI\\\\Bin\\\\;C:\\\\Program Files\\\\Microsoft SQL Server\\\\130\\\\Tools\\\\Binn\\\\;C:\\\\Program Files\\\\MongoDB\\\\Server\\\\4.0\\\\bin;C:\\\\Program Files\\\\nodejs\\\\;C:\\\\Program Files\\\\NVIDIA Corporation\\\\NVIDIA NGX;C:\\\\Program Files\\\\NVIDIA Corporation\\\\NVIDIA NvDLISR;C:\\\\Program Files\\\\NVIDIA GPU Computing Toolkit\\\\CUDA\\\\v9.0\\\\bin;C:\\\\Program Files\\\\NVIDIA GPU Computing Toolkit\\\\CUDA\\\\v9.0\\\\libnvvp;C:\\\\Program Files (x86)\\\\GtkSharp\\\\2.12\\\\bin;C:\\\\Program Files (x86)\\\\Intel\\\\iCLS Client\\\\;C:\\\\Program Files (x86)\\\\Intel\\\\Intel(R) Management Engine Components\\\\DAL;C:\\\\Program Files (x86)\\\\Intel\\\\Intel(R) Management Engine Components\\\\IPT;C:\\\\Program Files (x86)\\\\NVIDIA Corporation\\\\PhysX\\\\Common;C:\\\\Program Files (x86)\\\\PuTTY\\\\;C:\\\\Program Files (x86)\\\\sbt\\\\bin;C:\\\\WINDOWS;C:\\\\WINDOWS\\\\system32;C:\\\\WINDOWS\\\\System32\\\\OpenSSH\\\\;C:\\\\WINDOWS\\\\System32\\\\Wbem;C:\\\\WINDOWS\\\\System32\\\\WindowsPowerShell\\\\v1.0\\\\;C:\\\\ProgramData\\\\Oracle\\\\Java\\\\javapath;C:\\\\Spark\\\\bin;C:\\\\WINDOWS;C:\\\\WINDOWS\\\\system32;C:\\\\WINDOWS\\\\System32\\\\OpenSSH\\\\;C:\\\\Windows\\\\System32\\\\Wbem;C:\\\\Windows\\\\System32\\\\WindowsPowerShell\\\\v1.0\\\\;C:\\\\Windows\\\\SysWOW64\\\\WindowsPowerShell\\\\v1.0\\\\Modules\\\\TShell\\\\TShell\\\\;C:\\\\Program Files\\\\dotnet\\\\;C:\\\\Program Files (x86)\\\\Windows Kits\\\\8.1\\\\Windows Performance Toolkit\\\\;C:\\\\sqlcl\\\\bin\\\\;C:\\\\Program Files\\\\PowerShell\\\\7\\\\;C:\\\\rtools40\\\\usr\\\\bin;C:\\\\Program Files\\\\CMake\\\\bin;C:\\\\Program Files\\\\Docker\\\\Docker\\\\resources\\\\bin;C:\\\\ProgramData\\\\DockerDesktop\\\\version-bin;C:\\\\Program Files\\\\Amazon\\\\AWSCLIV2\\\\;C:\\\\Program Files\\\\Microsoft SQL Server\\\\130\\\\Tools\\\\Binn\\\\;C:\\\\Program Files\\\\Microsoft SQL Server\\\\Client SDK\\\\ODBC\\\\170\\\\Tools\\\\Binn\\\\;C:\\\\Program Files (x86)\\\\Microsoft SQL Server\\\\110\\\\DTS\\\\Binn\\\\;C:\\\\Program Files (x86)\\\\Microsoft SQL Server\\\\120\\\\DTS\\\\Binn\\\\;C:\\\\Program Files (x86)\\\\Microsoft SQL Server\\\\130\\\\DTS\\\\Binn\\\\;C:\\\\Program Files (x86)\\\\Microsoft SQL Server\\\\140\\\\DTS\\\\Binn\\\\;C:\\\\Program Files (x86)\\\\Microsoft SQL Server\\\\150\\\\DTS\\\\Binn\\\\;C:\\\\Program Files\\\\Pandoc\\\\;C:\\\\Users\\\\Vladimir\\\\AppData\\\\Roaming\\\\Microsoft\\\\ToolsForAI\\\\RuntimeSDK\\\\cntk\\\\cntk;C:\\\\Users\\\\Vladimir\\\\AppData\\\\Local\\\\GitHubDesktop\\\\bin;C:\\\\Program Files\\\\Heroku\\\\bin;C:\\\\Users\\\\Vladimir\\\\AppData\\\\Roaming\\\\npm;C:\\\\Program Files (x86)\\\\ProcessExplorer;C:\\\\Users\\\\Vladimir\\\\AppData\\\\Local\\\\Microsoft\\\\WindowsApps;C:\\\\Users\\\\Vladimir\\\\AppData\\\\Local\\\\Programs\\\\Microsoft VS Code\\\\bin;C:\\\\Users\\\\Vladimir\\\\.ebcli-virtual-env\\\\executables;C:\\\\Users\\\\Vladimir\\\\AppData\\\\Local\\\\Programs\\\\MiKTeX 2.9\\\\miktex\\\\bin\\\\x64\\\\'"
     },
     "metadata": {},
     "execution_count": 1
    }
   ],
   "source": [
    "import os\n",
    "os.environ[\"path\"]"
   ]
  },
  {
   "cell_type": "code",
   "execution_count": 2,
   "metadata": {},
   "outputs": [],
   "source": [
    "os.environ[\"path\"]=os.environ[\"path\"]+\";C:\\\\Program Files (x86)\\\\Graphviz2.38\\\\bin\""
   ]
  },
  {
   "cell_type": "code",
   "execution_count": 3,
   "metadata": {},
   "outputs": [
    {
     "output_type": "execute_result",
     "data": {
      "text/plain": "'C:\\\\Users\\\\Vladimir\\\\AppData\\\\Local\\\\Programs\\\\Python\\\\Python37\\\\lib\\\\site-packages\\\\pywin32_system32;C:\\\\Users\\\\Vladimir\\\\AppData\\\\Local\\\\Programs\\\\Python\\\\Python37\\\\lib\\\\site-packages\\\\pywin32_system32;G:\\\\opencv-4.3.0\\\\Installation\\\\x64\\\\vc16\\\\bin;C:\\\\Users\\\\Vladimir\\\\AppData\\\\Local\\\\Programs\\\\Python\\\\Python37\\\\Scripts\\\\;C:\\\\Users\\\\Vladimir\\\\AppData\\\\Local\\\\Programs\\\\Python\\\\Python37;C:\\\\Program Files\\\\dotnet\\\\;C:\\\\Program Files\\\\Git\\\\cmd;C:\\\\Program Files\\\\Intel\\\\iCLS Client\\\\;C:\\\\Program Files\\\\Intel\\\\Intel(R) Management Engine Components\\\\DAL;C:\\\\Program Files\\\\Intel\\\\Intel(R) Management Engine Components\\\\IPT;C:\\\\Program Files\\\\Microsoft MPI\\\\Bin\\\\;C:\\\\Program Files\\\\Microsoft SQL Server\\\\130\\\\Tools\\\\Binn\\\\;C:\\\\Program Files\\\\MongoDB\\\\Server\\\\4.0\\\\bin;C:\\\\Program Files\\\\nodejs\\\\;C:\\\\Program Files\\\\NVIDIA Corporation\\\\NVIDIA NGX;C:\\\\Program Files\\\\NVIDIA Corporation\\\\NVIDIA NvDLISR;C:\\\\Program Files\\\\NVIDIA GPU Computing Toolkit\\\\CUDA\\\\v9.0\\\\bin;C:\\\\Program Files\\\\NVIDIA GPU Computing Toolkit\\\\CUDA\\\\v9.0\\\\libnvvp;C:\\\\Program Files (x86)\\\\GtkSharp\\\\2.12\\\\bin;C:\\\\Program Files (x86)\\\\Intel\\\\iCLS Client\\\\;C:\\\\Program Files (x86)\\\\Intel\\\\Intel(R) Management Engine Components\\\\DAL;C:\\\\Program Files (x86)\\\\Intel\\\\Intel(R) Management Engine Components\\\\IPT;C:\\\\Program Files (x86)\\\\NVIDIA Corporation\\\\PhysX\\\\Common;C:\\\\Program Files (x86)\\\\PuTTY\\\\;C:\\\\Program Files (x86)\\\\sbt\\\\bin;C:\\\\WINDOWS;C:\\\\WINDOWS\\\\system32;C:\\\\WINDOWS\\\\System32\\\\OpenSSH\\\\;C:\\\\WINDOWS\\\\System32\\\\Wbem;C:\\\\WINDOWS\\\\System32\\\\WindowsPowerShell\\\\v1.0\\\\;C:\\\\ProgramData\\\\Oracle\\\\Java\\\\javapath;C:\\\\Spark\\\\bin;C:\\\\WINDOWS;C:\\\\WINDOWS\\\\system32;C:\\\\WINDOWS\\\\System32\\\\OpenSSH\\\\;C:\\\\Windows\\\\System32\\\\Wbem;C:\\\\Windows\\\\System32\\\\WindowsPowerShell\\\\v1.0\\\\;C:\\\\Windows\\\\SysWOW64\\\\WindowsPowerShell\\\\v1.0\\\\Modules\\\\TShell\\\\TShell\\\\;C:\\\\Program Files\\\\dotnet\\\\;C:\\\\Program Files (x86)\\\\Windows Kits\\\\8.1\\\\Windows Performance Toolkit\\\\;C:\\\\sqlcl\\\\bin\\\\;C:\\\\Program Files\\\\PowerShell\\\\7\\\\;C:\\\\rtools40\\\\usr\\\\bin;C:\\\\Program Files\\\\CMake\\\\bin;C:\\\\Program Files\\\\Docker\\\\Docker\\\\resources\\\\bin;C:\\\\ProgramData\\\\DockerDesktop\\\\version-bin;C:\\\\Program Files\\\\Amazon\\\\AWSCLIV2\\\\;C:\\\\Program Files\\\\Microsoft SQL Server\\\\130\\\\Tools\\\\Binn\\\\;C:\\\\Program Files\\\\Microsoft SQL Server\\\\Client SDK\\\\ODBC\\\\170\\\\Tools\\\\Binn\\\\;C:\\\\Program Files (x86)\\\\Microsoft SQL Server\\\\110\\\\DTS\\\\Binn\\\\;C:\\\\Program Files (x86)\\\\Microsoft SQL Server\\\\120\\\\DTS\\\\Binn\\\\;C:\\\\Program Files (x86)\\\\Microsoft SQL Server\\\\130\\\\DTS\\\\Binn\\\\;C:\\\\Program Files (x86)\\\\Microsoft SQL Server\\\\140\\\\DTS\\\\Binn\\\\;C:\\\\Program Files (x86)\\\\Microsoft SQL Server\\\\150\\\\DTS\\\\Binn\\\\;C:\\\\Program Files\\\\Pandoc\\\\;C:\\\\Users\\\\Vladimir\\\\AppData\\\\Roaming\\\\Microsoft\\\\ToolsForAI\\\\RuntimeSDK\\\\cntk\\\\cntk;C:\\\\Users\\\\Vladimir\\\\AppData\\\\Local\\\\GitHubDesktop\\\\bin;C:\\\\Program Files\\\\Heroku\\\\bin;C:\\\\Users\\\\Vladimir\\\\AppData\\\\Roaming\\\\npm;C:\\\\Program Files (x86)\\\\ProcessExplorer;C:\\\\Users\\\\Vladimir\\\\AppData\\\\Local\\\\Microsoft\\\\WindowsApps;C:\\\\Users\\\\Vladimir\\\\AppData\\\\Local\\\\Programs\\\\Microsoft VS Code\\\\bin;C:\\\\Users\\\\Vladimir\\\\.ebcli-virtual-env\\\\executables;C:\\\\Users\\\\Vladimir\\\\AppData\\\\Local\\\\Programs\\\\MiKTeX 2.9\\\\miktex\\\\bin\\\\x64\\\\;C:\\\\Program Files (x86)\\\\Graphviz2.38\\\\bin'"
     },
     "metadata": {},
     "execution_count": 3
    }
   ],
   "source": [
    "os.environ[\"path\"]"
   ]
  },
  {
   "cell_type": "code",
   "execution_count": null,
   "metadata": {},
   "outputs": [],
   "source": []
  }
 ],
 "metadata": {
  "kernelspec": {
   "display_name": "Python 3",
   "language": "python",
   "name": "python3"
  },
  "language_info": {
   "codemirror_mode": {
    "name": "ipython",
    "version": 3
   },
   "file_extension": ".py",
   "mimetype": "text/x-python",
   "name": "python",
   "nbconvert_exporter": "python",
   "pygments_lexer": "ipython3",
   "version": "3.7.7-final"
  }
 },
 "nbformat": 4,
 "nbformat_minor": 2
}