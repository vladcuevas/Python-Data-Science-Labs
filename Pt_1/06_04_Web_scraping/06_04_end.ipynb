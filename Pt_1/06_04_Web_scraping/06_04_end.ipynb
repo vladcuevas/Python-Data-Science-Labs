{
 "cells": [
  {
   "cell_type": "markdown",
   "metadata": {},
   "source": [
    "# Chapter 6 -  Data Sourcing via Web\n",
    "## Segment 4 - Web scraping"
   ]
  },
  {
   "cell_type": "code",
   "execution_count": 2,
   "metadata": {
    "tags": []
   },
   "outputs": [
    {
     "output_type": "stream",
     "name": "stdout",
     "text": "Collecting beautifulsoup4\n  Downloading beautifulsoup4-4.9.1-py3-none-any.whl (115 kB)\nCollecting soupsieve>1.2\n  Downloading soupsieve-2.0.1-py3-none-any.whl (32 kB)\nInstalling collected packages: soupsieve, beautifulsoup4\nSuccessfully installed beautifulsoup4-4.9.1 soupsieve-2.0.1\n"
    }
   ],
   "source": [
    "! pip install beautifulsoup4"
   ]
  },
  {
   "cell_type": "code",
   "execution_count": 3,
   "metadata": {},
   "outputs": [],
   "source": [
    "from bs4 import BeautifulSoup\n",
    "import urllib.request\n",
    "from IPython.display import HTML\n",
    "import re"
   ]
  },
  {
   "cell_type": "code",
   "execution_count": 4,
   "metadata": {},
   "outputs": [
    {
     "output_type": "execute_result",
     "data": {
      "text/plain": "bs4.BeautifulSoup"
     },
     "metadata": {},
     "execution_count": 4
    }
   ],
   "source": [
    "r = urllib.request.urlopen('https://analytics.usa.gov/').read()\n",
    "soup = BeautifulSoup(r, \"lxml\")\n",
    "type(soup)"
   ]
  },
  {
   "cell_type": "code",
   "execution_count": 5,
   "metadata": {
    "tags": []
   },
   "outputs": [
    {
     "output_type": "stream",
     "name": "stdout",
     "text": "<!DOCTYPE html>\n<html lang=\"en\">\n <!-- Initalize title and data source variables -->\n <head>\n  <!--\n\n"
    }
   ],
   "source": [
    "print(soup.prettify()[:100])"
   ]
  },
  {
   "cell_type": "code",
   "execution_count": 6,
   "metadata": {
    "tags": []
   },
   "outputs": [
    {
     "output_type": "stream",
     "name": "stdout",
     "text": "/\n#explanation\nhttps://analytics.usa.gov/data/\nhttps://open.gsa.gov/api/dap/\ndata/\n#top-pages-realtime\n#top-pages-7-days\n#top-pages-30-days\nhttps://analytics.usa.gov/data/live/all-pages-realtime.csv\nhttps://analytics.usa.gov/data/live/all-domains-30-days.csv\nhttps://www.digitalgov.gov/services/dap/\nhttps://www.digitalgov.gov/services/dap/common-questions-about-dap-faq/#part-4\nhttps://support.google.com/analytics/answer/2763052?hl=en\nhttps://analytics.usa.gov/data/live/second-level-domains.csv\nhttps://analytics.usa.gov/data/live/sites.csv\nmailto:DAP@support.digitalgov.gov\nhttps://analytics.usa.gov/data/\nhttps://open.gsa.gov/api/dap/\nmailto:DAP@support.digitalgov.gov\nhttps://github.com/GSA/analytics.usa.gov/issues\nhttps://github.com/GSA/analytics.usa.gov\nhttps://github.com/18F/analytics-reporter\nhttp://www.gsa.gov/\nhttps://www.digitalgov.gov/services/dap/\nhttps://cloud.gov/\n"
    }
   ],
   "source": [
    "for link in soup.find_all('a'):\n",
    "    print(link.get('href'))"
   ]
  },
  {
   "cell_type": "code",
   "execution_count": 7,
   "metadata": {
    "tags": []
   },
   "outputs": [
    {
     "output_type": "stream",
     "name": "stdout",
     "text": "\n\n\n\n\n\n\n\n\n\n\n\n\n\n\nanalytics.usa.gov | The US government's web traffic.\n\n\n\n\n\n\n\n\n\n\n\n\n\n\n\n\n\n\n\n\n\n\nanalytics.usa.gov\n              \n\n\nAbout this site\nData | API\n\n\n\nSelect an agency\n\nAll Participating Websites\nAgency for International Development\nDepartment of Agriculture\nDepartment of Commerce\nDepartment of Defense\nDepartment of Education\nDepartment of Energy\nDepartment of Health and Human Services\nDepartment of Homeland Security\nDepartment of Housing and Urban Development\nDepartment of Justice\nDepartment of Labor\nDepartment of State\nDepartment of Transportation\nDepartment of Veterans Affairs\nDepartment of the Interior\nDepartment of the Treasury\nEnvironmental Protection Agency\nExecutive Office of the President\nGeneral Services Administration\nNational Aeronautics and Space Administration\nNational Archives and Records Administration\nNational Science Foundation\nNuclear Regulatory Commission\nOffice of Personnel Management\nPostal Service\nSmall Business Administration\nSocial Security Administration\n\n\n\n\n\n\n\n\n\n...\npeople on government websites now\n\n\nVisits Today\nEastern Time\n\n\n\n\n\n\nVisits in the Past 90 Days\n\n\n          There were ... visits over the past 90 days.\n        \n\nDevices\n\n\n\n\n\n            Based on rough network segmentation data, we estimate that less than 5% of all traffic across all agencies comes from US federal government networks.\n          \n\n            Much more detailed data is available in downloadable CSV and JSON. This includes data on combined browser and OS usage.\n          \n\n\nBrowsers\n\n\n\n\n\nInternet Explorer\n\n\n\n\n\nOperating Systems\n\n\n\n\n\nWindows\n\n\n\n\n\n\n\nVisitor Locations Right Now\n\n\nCities\n\n\n\n\n\n\nCountries\n\n\n\n\n\nInternational & Territories\n\n\n\n\n\n\n\n\nTop Pages\n\nNow\n7 Days\n30 Days\n\n\n\n              People on a single, specific page now. We only count pages with at least 10 people on the page.\n              Download the full dataset.\n\n\n\n\n\nVisits over the last week to domains, including traffic to all pages within that domain.\n\n\n\n\n\n              Visits over the last month to domains, including traffic to all pages within that domain. We only count pages with at least 1,000 visits in the last month.\n              Download the full dataset.\n\n\n\n\n\n\nTop Downloads\nTotal file downloads yesterday on government domains.\n\n\n\n\n\n\n\n\nAbout this Site\n\n            This data provides a window into how people are interacting with the government online.\n             The data comes from a unified Google Analytics account for U.S. federal government agencies known as the Digital Analytics Program.\n              This program helps government agencies understand how people find, access, and use government services online. The program does not track individuals,\n               and anonymizes the IP addresses of visitors.\n          \n\n            Not every government website is represented in this data. \n            Currently, the Digital Analytics Program collects web traffic from around 400 executive branch government domains,\n             across about 5,700 total websites,\n              including every cabinet department.\n               We continue to pursue and add more sites frequently; to add your site, email the Digital Analytics Program.\n          \n\n\nDownload the data\nYou can download the data here. Available in JSON and CSV format.\n Additionally, you can access data via our  API project (currently in Beta).\nA note on sampling\nDue to varying Google Analytics API sampling thresholds and the sheer volume of data in this project, some non-realtime reports may be subject to sampling. \n             The data are intended to represent trends and numbers may not be precise.\n\n\n\n\n\n\nHave a question or problem? \n              \n              Get in touch.\n              \n\n\n                  Suggest a feature or report an issue\n            \n\n\n\n\n              View our code on GitHub\n\n\n              View our code for the data on GitHub\n\n\n\n\n\n\n\n\n\n\nAnalytics.usa.gov is a project of GSA’s Digital Analytics Program.\nThis website is hosted on cloud.gov.\n\n\n\n\n\n\n\n\n\n\n\n\n"
    }
   ],
   "source": [
    "print(soup.get_text())"
   ]
  },
  {
   "cell_type": "code",
   "execution_count": 8,
   "metadata": {
    "tags": []
   },
   "outputs": [
    {
     "output_type": "stream",
     "name": "stdout",
     "text": "<!DOCTYPE html>\n<html lang=\"en\">\n <!-- Initalize title and data source variables -->\n <head>\n  <!--\n\n    Hi! Welcome to our source code.\n\n    This dashboard uses data from the Digital Analytics Program, a US\n    government team inside the General Services Administration.\n\n\n    For a detailed tech breakdown of how 18F and friends built this site:\n\n    https://18f.gsa.gov/2015/03/19/how-we-built-analytics-usa-gov/\n\n\n    This is a fully open source project, and your contributions are welcome.\n\n    Frontend static site: https://github.com/18F/analytics.usa.gov\n    Backend data reporting: https://github.com/18F/analytics-reporter\n\n    -->\n  <meta charset=\"utf-8\"/>\n  <meta content=\"IE=Edge\" http-equiv=\"X-UA-Compatible\"/>\n  <meta content=\"NjbZn6hQe7OwV-nTsa6nLmtrOUcSGPRyFjxm5zkmCcg\" name=\"google-site-verification\"/>\n  <link href=\"/css/vendor/css/uswds.v0.9.6.css\" rel=\"stylesheet\"/>\n  <link href=\"/css/public_analytics.css\" rel=\"stylesheet\"/>\n  <link href=\"/images/analytics-favicon.ico\" rel=\"ic\n"
    }
   ],
   "source": [
    "print(soup.prettify()[0:1000])"
   ]
  },
  {
   "cell_type": "code",
   "execution_count": 9,
   "metadata": {
    "tags": []
   },
   "outputs": [
    {
     "output_type": "stream",
     "name": "stdout",
     "text": "<a href=\"https://analytics.usa.gov/data/\">Data</a>\n<a href=\"https://open.gsa.gov/api/dap/\" target=\"_blank\">API</a>\n<a href=\"https://analytics.usa.gov/data/live/all-pages-realtime.csv\">Download the full dataset.</a>\n<a href=\"https://analytics.usa.gov/data/live/all-domains-30-days.csv\">Download the full dataset.</a>\n<a class=\"external-link\" href=\"https://www.digitalgov.gov/services/dap/\">Digital Analytics Program</a>\n<a class=\"external-link\" href=\"https://www.digitalgov.gov/services/dap/common-questions-about-dap-faq/#part-4\">does not track individuals</a>\n<a class=\"external-link\" href=\"https://support.google.com/analytics/answer/2763052?hl=en\">anonymizes the IP addresses</a>\n<a class=\"external-link\" href=\"https://analytics.usa.gov/data/live/second-level-domains.csv\">400 executive branch government domains</a>\n<a class=\"external-link\" href=\"https://analytics.usa.gov/data/live/sites.csv\">about 5,700 total websites</a>\n<a href=\"https://analytics.usa.gov/data/\">download the data here.</a>\n<a href=\"https://open.gsa.gov/api/dap/\" target=\"_blank\"> API project</a>\n<a class=\"usa-button usa-button-secondary-inverse\" href=\"https://github.com/GSA/analytics.usa.gov/issues\">\n<img alt=\"Github Icon\" class=\"github-icon\" src=\"/images/github-logo-white.svg\"/>\n                  Suggest a feature or report an issue\n            </a>\n<a href=\"https://github.com/GSA/analytics.usa.gov\">\n<img alt=\"Github Icon\" class=\"github-icon\" src=\"/images/github-logo.svg\"/>\n              View our code on GitHub</a>\n<a href=\"https://github.com/18F/analytics-reporter\">\n<img alt=\"Github Icon\" class=\"github-icon\" src=\"/images/github-logo.svg\"/>\n              View our code for the data on GitHub</a>\n<a href=\"http://www.gsa.gov/\">\n<img alt=\"GSA\" src=\"/images/gsa-logo.svg\"/>\n</a>\n<a href=\"https://www.digitalgov.gov/services/dap/\">Digital Analytics Program</a>\n<a href=\"https://cloud.gov/\">cloud.gov</a>\n"
    },
    {
     "output_type": "execute_result",
     "data": {
      "text/plain": "bs4.element.Tag"
     },
     "metadata": {},
     "execution_count": 9
    }
   ],
   "source": [
    "for link in soup.findAll('a', attrs={'href': re.compile(\"^http\")}):\n",
    "    print(link)\n",
    "type(link)"
   ]
  },
  {
   "cell_type": "code",
   "execution_count": 10,
   "metadata": {
    "tags": []
   },
   "outputs": [
    {
     "output_type": "stream",
     "name": "stdout",
     "text": "<a href=\"https://analytics.usa.gov/data/\">Data</a>\n<a href=\"https://open.gsa.gov/api/dap/\" target=\"_blank\">API</a>\n<a href=\"https://analytics.usa.gov/data/live/all-pages-realtime.csv\">Download the full dataset.</a>\n<a href=\"https://analytics.usa.gov/data/live/all-domains-30-days.csv\">Download the full dataset.</a>\n<a class=\"external-link\" href=\"https://www.digitalgov.gov/services/dap/\">Digital Analytics Program</a>\n<a class=\"external-link\" href=\"https://www.digitalgov.gov/services/dap/common-questions-about-dap-faq/#part-4\">does not track individuals</a>\n<a class=\"external-link\" href=\"https://support.google.com/analytics/answer/2763052?hl=en\">anonymizes the IP addresses</a>\n<a class=\"external-link\" href=\"https://analytics.usa.gov/data/live/second-level-domains.csv\">400 executive branch government domains</a>\n<a class=\"external-link\" href=\"https://analytics.usa.gov/data/live/sites.csv\">about 5,700 total websites</a>\n<a href=\"https://analytics.usa.gov/data/\">download the data here.</a>\n<a href=\"https://open.gsa.gov/api/dap/\" target=\"_blank\"> API project</a>\n<a class=\"usa-button usa-button-secondary-inverse\" href=\"https://github.com/GSA/analytics.usa.gov/issues\">\n<img alt=\"Github Icon\" class=\"github-icon\" src=\"/images/github-logo-white.svg\"/>\n                  Suggest a feature or report an issue\n            </a>\n<a href=\"https://github.com/GSA/analytics.usa.gov\">\n<img alt=\"Github Icon\" class=\"github-icon\" src=\"/images/github-logo.svg\"/>\n              View our code on GitHub</a>\n<a href=\"https://github.com/18F/analytics-reporter\">\n<img alt=\"Github Icon\" class=\"github-icon\" src=\"/images/github-logo.svg\"/>\n              View our code for the data on GitHub</a>\n<a href=\"http://www.gsa.gov/\">\n<img alt=\"GSA\" src=\"/images/gsa-logo.svg\"/>\n</a>\n<a href=\"https://www.digitalgov.gov/services/dap/\">Digital Analytics Program</a>\n<a href=\"https://cloud.gov/\">cloud.gov</a>\n"
    }
   ],
   "source": [
    "file = open(\"parsed_data.txt\", \"w\")\n",
    "for link in soup.findAll('a', attrs={'href': re.compile(\"^http\")}):\n",
    "    soup_link = str(link)\n",
    "    print(soup_link)\n",
    "    file.write(soup_link)\n",
    "file.flush()\n",
    "file.close()"
   ]
  },
  {
   "cell_type": "code",
   "execution_count": 11,
   "metadata": {},
   "outputs": [
    {
     "output_type": "execute_result",
     "data": {
      "text/plain": "'g:\\\\GitHub\\\\Python-Data-Science-Labs\\\\Pt_1\\\\06_04_Web_scraping'"
     },
     "metadata": {},
     "execution_count": 11
    }
   ],
   "source": [
    "%pwd"
   ]
  },
  {
   "cell_type": "code",
   "execution_count": null,
   "metadata": {},
   "outputs": [],
   "source": []
  }
 ],
 "metadata": {
  "kernelspec": {
   "display_name": "Python 3",
   "language": "python",
   "name": "python3"
  },
  "language_info": {
   "codemirror_mode": {
    "name": "ipython",
    "version": 3
   },
   "file_extension": ".py",
   "mimetype": "text/x-python",
   "name": "python",
   "nbconvert_exporter": "python",
   "pygments_lexer": "ipython3",
   "version": "3.7.7-final"
  }
 },
 "nbformat": 4,
 "nbformat_minor": 1
}