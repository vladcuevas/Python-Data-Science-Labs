{
 "cells": [
  {
   "cell_type": "markdown",
   "metadata": {},
   "source": [
    "# Chapter 6 -  Data Sourcing via Web\n",
    "## Segment 4 - Web scraping"
   ]
  },
  {
   "cell_type": "code",
   "execution_count": 2,
   "metadata": {
    "tags": []
   },
   "outputs": [
    {
     "output_type": "stream",
     "name": "stdout",
     "text": "Collecting beautifulsoup4\n  Downloading beautifulsoup4-4.9.1-py3-none-any.whl (115 kB)\nCollecting soupsieve>1.2\n  Downloading soupsieve-2.0.1-py3-none-any.whl (32 kB)\nInstalling collected packages: soupsieve, beautifulsoup4\nSuccessfully installed beautifulsoup4-4.9.1 soupsieve-2.0.1\n"
    }
   ],
   "source": [
    "! pip install beautifulsoup4"
   ]
  },
  {
   "cell_type": "code",
   "execution_count": 1,
   "metadata": {},
   "outputs": [],
   "source": [
    "from bs4 import BeautifulSoup\n",
    "import urllib.request\n",
    "from IPython.display import HTML\n",
    "import re\n",
    "import pandas as pd"
   ]
  },
  {
   "cell_type": "code",
   "execution_count": 2,
   "metadata": {},
   "outputs": [],
   "source": [
    "f = open('countries.html', 'r')"
   ]
  },
  {
   "cell_type": "code",
   "execution_count": 3,
   "metadata": {},
   "outputs": [],
   "source": [
    "html_table = f.read()"
   ]
  },
  {
   "cell_type": "code",
   "execution_count": 4,
   "metadata": {},
   "outputs": [
    {
     "output_type": "error",
     "ename": "HTTPError",
     "evalue": "HTTP Error 403: Forbidden",
     "traceback": [
      "\u001b[1;31m---------------------------------------------------------------------------\u001b[0m",
      "\u001b[1;31mHTTPError\u001b[0m                                 Traceback (most recent call last)",
      "\u001b[1;32m<ipython-input-4-837ecbe60828>\u001b[0m in \u001b[0;36m<module>\u001b[1;34m\u001b[0m\n\u001b[1;32m----> 1\u001b[1;33m \u001b[0mr\u001b[0m \u001b[1;33m=\u001b[0m \u001b[0murllib\u001b[0m\u001b[1;33m.\u001b[0m\u001b[0mrequest\u001b[0m\u001b[1;33m.\u001b[0m\u001b[0murlopen\u001b[0m\u001b[1;33m(\u001b[0m\u001b[1;34m'https://www.worldometers.info/coronavirus/'\u001b[0m\u001b[1;33m)\u001b[0m\u001b[1;33m.\u001b[0m\u001b[0mread\u001b[0m\u001b[1;33m(\u001b[0m\u001b[1;33m)\u001b[0m\u001b[1;33m\u001b[0m\u001b[1;33m\u001b[0m\u001b[0m\n\u001b[0m\u001b[0;32m      2\u001b[0m \u001b[0msoup\u001b[0m \u001b[1;33m=\u001b[0m \u001b[0mBeautifulSoup\u001b[0m\u001b[1;33m(\u001b[0m\u001b[0mr\u001b[0m\u001b[1;33m,\u001b[0m \u001b[1;34m\"lxml\"\u001b[0m\u001b[1;33m)\u001b[0m\u001b[1;33m\u001b[0m\u001b[1;33m\u001b[0m\u001b[0m\n\u001b[0;32m      3\u001b[0m \u001b[0mtype\u001b[0m\u001b[1;33m(\u001b[0m\u001b[0msoup\u001b[0m\u001b[1;33m)\u001b[0m\u001b[1;33m\u001b[0m\u001b[1;33m\u001b[0m\u001b[0m\n",
      "\u001b[1;32m~\\AppData\\Local\\Programs\\Python\\Python37\\lib\\urllib\\request.py\u001b[0m in \u001b[0;36murlopen\u001b[1;34m(url, data, timeout, cafile, capath, cadefault, context)\u001b[0m\n\u001b[0;32m    220\u001b[0m     \u001b[1;32melse\u001b[0m\u001b[1;33m:\u001b[0m\u001b[1;33m\u001b[0m\u001b[1;33m\u001b[0m\u001b[0m\n\u001b[0;32m    221\u001b[0m         \u001b[0mopener\u001b[0m \u001b[1;33m=\u001b[0m \u001b[0m_opener\u001b[0m\u001b[1;33m\u001b[0m\u001b[1;33m\u001b[0m\u001b[0m\n\u001b[1;32m--> 222\u001b[1;33m     \u001b[1;32mreturn\u001b[0m \u001b[0mopener\u001b[0m\u001b[1;33m.\u001b[0m\u001b[0mopen\u001b[0m\u001b[1;33m(\u001b[0m\u001b[0murl\u001b[0m\u001b[1;33m,\u001b[0m \u001b[0mdata\u001b[0m\u001b[1;33m,\u001b[0m \u001b[0mtimeout\u001b[0m\u001b[1;33m)\u001b[0m\u001b[1;33m\u001b[0m\u001b[1;33m\u001b[0m\u001b[0m\n\u001b[0m\u001b[0;32m    223\u001b[0m \u001b[1;33m\u001b[0m\u001b[0m\n\u001b[0;32m    224\u001b[0m \u001b[1;32mdef\u001b[0m \u001b[0minstall_opener\u001b[0m\u001b[1;33m(\u001b[0m\u001b[0mopener\u001b[0m\u001b[1;33m)\u001b[0m\u001b[1;33m:\u001b[0m\u001b[1;33m\u001b[0m\u001b[1;33m\u001b[0m\u001b[0m\n",
      "\u001b[1;32m~\\AppData\\Local\\Programs\\Python\\Python37\\lib\\urllib\\request.py\u001b[0m in \u001b[0;36mopen\u001b[1;34m(self, fullurl, data, timeout)\u001b[0m\n\u001b[0;32m    529\u001b[0m         \u001b[1;32mfor\u001b[0m \u001b[0mprocessor\u001b[0m \u001b[1;32min\u001b[0m \u001b[0mself\u001b[0m\u001b[1;33m.\u001b[0m\u001b[0mprocess_response\u001b[0m\u001b[1;33m.\u001b[0m\u001b[0mget\u001b[0m\u001b[1;33m(\u001b[0m\u001b[0mprotocol\u001b[0m\u001b[1;33m,\u001b[0m \u001b[1;33m[\u001b[0m\u001b[1;33m]\u001b[0m\u001b[1;33m)\u001b[0m\u001b[1;33m:\u001b[0m\u001b[1;33m\u001b[0m\u001b[1;33m\u001b[0m\u001b[0m\n\u001b[0;32m    530\u001b[0m             \u001b[0mmeth\u001b[0m \u001b[1;33m=\u001b[0m \u001b[0mgetattr\u001b[0m\u001b[1;33m(\u001b[0m\u001b[0mprocessor\u001b[0m\u001b[1;33m,\u001b[0m \u001b[0mmeth_name\u001b[0m\u001b[1;33m)\u001b[0m\u001b[1;33m\u001b[0m\u001b[1;33m\u001b[0m\u001b[0m\n\u001b[1;32m--> 531\u001b[1;33m             \u001b[0mresponse\u001b[0m \u001b[1;33m=\u001b[0m \u001b[0mmeth\u001b[0m\u001b[1;33m(\u001b[0m\u001b[0mreq\u001b[0m\u001b[1;33m,\u001b[0m \u001b[0mresponse\u001b[0m\u001b[1;33m)\u001b[0m\u001b[1;33m\u001b[0m\u001b[1;33m\u001b[0m\u001b[0m\n\u001b[0m\u001b[0;32m    532\u001b[0m \u001b[1;33m\u001b[0m\u001b[0m\n\u001b[0;32m    533\u001b[0m         \u001b[1;32mreturn\u001b[0m \u001b[0mresponse\u001b[0m\u001b[1;33m\u001b[0m\u001b[1;33m\u001b[0m\u001b[0m\n",
      "\u001b[1;32m~\\AppData\\Local\\Programs\\Python\\Python37\\lib\\urllib\\request.py\u001b[0m in \u001b[0;36mhttp_response\u001b[1;34m(self, request, response)\u001b[0m\n\u001b[0;32m    639\u001b[0m         \u001b[1;32mif\u001b[0m \u001b[1;32mnot\u001b[0m \u001b[1;33m(\u001b[0m\u001b[1;36m200\u001b[0m \u001b[1;33m<=\u001b[0m \u001b[0mcode\u001b[0m \u001b[1;33m<\u001b[0m \u001b[1;36m300\u001b[0m\u001b[1;33m)\u001b[0m\u001b[1;33m:\u001b[0m\u001b[1;33m\u001b[0m\u001b[1;33m\u001b[0m\u001b[0m\n\u001b[0;32m    640\u001b[0m             response = self.parent.error(\n\u001b[1;32m--> 641\u001b[1;33m                 'http', request, response, code, msg, hdrs)\n\u001b[0m\u001b[0;32m    642\u001b[0m \u001b[1;33m\u001b[0m\u001b[0m\n\u001b[0;32m    643\u001b[0m         \u001b[1;32mreturn\u001b[0m \u001b[0mresponse\u001b[0m\u001b[1;33m\u001b[0m\u001b[1;33m\u001b[0m\u001b[0m\n",
      "\u001b[1;32m~\\AppData\\Local\\Programs\\Python\\Python37\\lib\\urllib\\request.py\u001b[0m in \u001b[0;36merror\u001b[1;34m(self, proto, *args)\u001b[0m\n\u001b[0;32m    567\u001b[0m         \u001b[1;32mif\u001b[0m \u001b[0mhttp_err\u001b[0m\u001b[1;33m:\u001b[0m\u001b[1;33m\u001b[0m\u001b[1;33m\u001b[0m\u001b[0m\n\u001b[0;32m    568\u001b[0m             \u001b[0margs\u001b[0m \u001b[1;33m=\u001b[0m \u001b[1;33m(\u001b[0m\u001b[0mdict\u001b[0m\u001b[1;33m,\u001b[0m \u001b[1;34m'default'\u001b[0m\u001b[1;33m,\u001b[0m \u001b[1;34m'http_error_default'\u001b[0m\u001b[1;33m)\u001b[0m \u001b[1;33m+\u001b[0m \u001b[0morig_args\u001b[0m\u001b[1;33m\u001b[0m\u001b[1;33m\u001b[0m\u001b[0m\n\u001b[1;32m--> 569\u001b[1;33m             \u001b[1;32mreturn\u001b[0m \u001b[0mself\u001b[0m\u001b[1;33m.\u001b[0m\u001b[0m_call_chain\u001b[0m\u001b[1;33m(\u001b[0m\u001b[1;33m*\u001b[0m\u001b[0margs\u001b[0m\u001b[1;33m)\u001b[0m\u001b[1;33m\u001b[0m\u001b[1;33m\u001b[0m\u001b[0m\n\u001b[0m\u001b[0;32m    570\u001b[0m \u001b[1;33m\u001b[0m\u001b[0m\n\u001b[0;32m    571\u001b[0m \u001b[1;31m# XXX probably also want an abstract factory that knows when it makes\u001b[0m\u001b[1;33m\u001b[0m\u001b[1;33m\u001b[0m\u001b[1;33m\u001b[0m\u001b[0m\n",
      "\u001b[1;32m~\\AppData\\Local\\Programs\\Python\\Python37\\lib\\urllib\\request.py\u001b[0m in \u001b[0;36m_call_chain\u001b[1;34m(self, chain, kind, meth_name, *args)\u001b[0m\n\u001b[0;32m    501\u001b[0m         \u001b[1;32mfor\u001b[0m \u001b[0mhandler\u001b[0m \u001b[1;32min\u001b[0m \u001b[0mhandlers\u001b[0m\u001b[1;33m:\u001b[0m\u001b[1;33m\u001b[0m\u001b[1;33m\u001b[0m\u001b[0m\n\u001b[0;32m    502\u001b[0m             \u001b[0mfunc\u001b[0m \u001b[1;33m=\u001b[0m \u001b[0mgetattr\u001b[0m\u001b[1;33m(\u001b[0m\u001b[0mhandler\u001b[0m\u001b[1;33m,\u001b[0m \u001b[0mmeth_name\u001b[0m\u001b[1;33m)\u001b[0m\u001b[1;33m\u001b[0m\u001b[1;33m\u001b[0m\u001b[0m\n\u001b[1;32m--> 503\u001b[1;33m             \u001b[0mresult\u001b[0m \u001b[1;33m=\u001b[0m \u001b[0mfunc\u001b[0m\u001b[1;33m(\u001b[0m\u001b[1;33m*\u001b[0m\u001b[0margs\u001b[0m\u001b[1;33m)\u001b[0m\u001b[1;33m\u001b[0m\u001b[1;33m\u001b[0m\u001b[0m\n\u001b[0m\u001b[0;32m    504\u001b[0m             \u001b[1;32mif\u001b[0m \u001b[0mresult\u001b[0m \u001b[1;32mis\u001b[0m \u001b[1;32mnot\u001b[0m \u001b[1;32mNone\u001b[0m\u001b[1;33m:\u001b[0m\u001b[1;33m\u001b[0m\u001b[1;33m\u001b[0m\u001b[0m\n\u001b[0;32m    505\u001b[0m                 \u001b[1;32mreturn\u001b[0m \u001b[0mresult\u001b[0m\u001b[1;33m\u001b[0m\u001b[1;33m\u001b[0m\u001b[0m\n",
      "\u001b[1;32m~\\AppData\\Local\\Programs\\Python\\Python37\\lib\\urllib\\request.py\u001b[0m in \u001b[0;36mhttp_error_default\u001b[1;34m(self, req, fp, code, msg, hdrs)\u001b[0m\n\u001b[0;32m    647\u001b[0m \u001b[1;32mclass\u001b[0m \u001b[0mHTTPDefaultErrorHandler\u001b[0m\u001b[1;33m(\u001b[0m\u001b[0mBaseHandler\u001b[0m\u001b[1;33m)\u001b[0m\u001b[1;33m:\u001b[0m\u001b[1;33m\u001b[0m\u001b[1;33m\u001b[0m\u001b[0m\n\u001b[0;32m    648\u001b[0m     \u001b[1;32mdef\u001b[0m \u001b[0mhttp_error_default\u001b[0m\u001b[1;33m(\u001b[0m\u001b[0mself\u001b[0m\u001b[1;33m,\u001b[0m \u001b[0mreq\u001b[0m\u001b[1;33m,\u001b[0m \u001b[0mfp\u001b[0m\u001b[1;33m,\u001b[0m \u001b[0mcode\u001b[0m\u001b[1;33m,\u001b[0m \u001b[0mmsg\u001b[0m\u001b[1;33m,\u001b[0m \u001b[0mhdrs\u001b[0m\u001b[1;33m)\u001b[0m\u001b[1;33m:\u001b[0m\u001b[1;33m\u001b[0m\u001b[1;33m\u001b[0m\u001b[0m\n\u001b[1;32m--> 649\u001b[1;33m         \u001b[1;32mraise\u001b[0m \u001b[0mHTTPError\u001b[0m\u001b[1;33m(\u001b[0m\u001b[0mreq\u001b[0m\u001b[1;33m.\u001b[0m\u001b[0mfull_url\u001b[0m\u001b[1;33m,\u001b[0m \u001b[0mcode\u001b[0m\u001b[1;33m,\u001b[0m \u001b[0mmsg\u001b[0m\u001b[1;33m,\u001b[0m \u001b[0mhdrs\u001b[0m\u001b[1;33m,\u001b[0m \u001b[0mfp\u001b[0m\u001b[1;33m)\u001b[0m\u001b[1;33m\u001b[0m\u001b[1;33m\u001b[0m\u001b[0m\n\u001b[0m\u001b[0;32m    650\u001b[0m \u001b[1;33m\u001b[0m\u001b[0m\n\u001b[0;32m    651\u001b[0m \u001b[1;32mclass\u001b[0m \u001b[0mHTTPRedirectHandler\u001b[0m\u001b[1;33m(\u001b[0m\u001b[0mBaseHandler\u001b[0m\u001b[1;33m)\u001b[0m\u001b[1;33m:\u001b[0m\u001b[1;33m\u001b[0m\u001b[1;33m\u001b[0m\u001b[0m\n",
      "\u001b[1;31mHTTPError\u001b[0m: HTTP Error 403: Forbidden"
     ]
    }
   ],
   "source": [
    "r = urllib.request.urlopen('https://www.worldometers.info/coronavirus/').read()\n",
    "soup = BeautifulSoup(r, \"lxml\")\n",
    "type(soup)"
   ]
  },
  {
   "cell_type": "code",
   "execution_count": 5,
   "metadata": {},
   "outputs": [],
   "source": [
    "header = soup.find_all(\"table\")[0].find(\"tr\") "
   ]
  },
  {
   "cell_type": "code",
   "execution_count": 6,
   "metadata": {},
   "outputs": [],
   "source": [
    "for items in header: \n",
    "    try: \n",
    "        list_header.append(items.get_text()) \n",
    "    except: \n",
    "        continue"
   ]
  },
  {
   "cell_type": "code",
   "execution_count": 7,
   "metadata": {},
   "outputs": [],
   "source": [
    "# for getting the data  \n",
    "HTML_data = soup.find_all(\"table\")[0].find_all(\"tr\")[1:]"
   ]
  },
  {
   "cell_type": "code",
   "execution_count": 8,
   "metadata": {
    "tags": []
   },
   "outputs": [
    {
     "output_type": "stream",
     "name": "stdout",
     "text": "1\nUSA\n2,681,811\n\n128,783 \n\n1,117,177\n1,435,851\n15,864\n8,102\n389\n33,189,513\n100,271\n330,996,984 \nNorth America\n\n\nEurope\n\n2,429,234\n\n191,026\n\n1,356,945\n881,263\n5,753\n\n\n\n\n\nEurope\n\n\nAsia\n\n2,257,218\n+834\n55,737\n+7\n1,476,389\n725,092\n19,140\n\n\n\n\n\nAsia\n\n\nSouth America\n\n2,187,129\n+601\n83,671\n+57\n1,267,472\n835,986\n12,789\n\n\n\n\n\nSouth America\n2\nBrazil\n\n1,370,488\n\n58,385 \n\n757,462\n554,641\n8,318\n6,448\n275\n3,070,447\n14,445\n212,554,056\n\nSouth America\n3\nRussia\n\n641,156\n\n9,166 \n\n403,430\n228,560\n2,300\n4,393\n63\n19,334,442\n132,487\n145,934,449\n\nEurope\n4\nIndia\n\n567,536\n\n16,904 \n\n335,271\n215,361\n8,944\n411\n12\n8,608,654\n6,238\n1,379,937,465\n\nAsia\n\n\nAfrica\n\n396,314\n\n9,914\n\n189,722\n196,678\n924\n\n\n\n\n\nAfrica\n5\nUK\n311,965\n\n43,575 \n\nN/A\nN/A\n276\n4,595\n642\n9,290,215\n136,852\n67,885,079 \nEurope\n6\nSpain\n\n296,050\n\n28,346 \n\nN/A\nN/A\n617\n6,332\n606\n5,162,909\n110,425\n46,754,775 \nEurope\n7\nPeru\n282,365\n\n9,504 \n\n171,159\n101,702\n1,183\n8,565\n288\n1,661,324\n50,391\n32,968,619 \nSouth America\n8\nChile\n\n275,999\n\n5,575 \n\n236,154\n34,270\n2,090\n14,438\n292\n1,096,443\n57,359\n19,115,496 \nSouth America\n9\nItaly\n\n240,436\n\n34,744 \n\n189,196\n16,496\n96\n3,977\n575\n5,341,837\n88,351\n60,461,762 \nEurope\n10\nIran\n225,205\n\n10,670 \n\n186,180\n28,355\n3,037\n2,681\n127\n1,639,078\n19,516\n83,986,007 \nAsia\n11\nMexico\n\n220,657\n+3,805\n27,121 \n+473\n131,264\n62,272\n378\n1,712\n210\n566,602\n4,395\n128,925,604\n\nNorth America\n12\nPakistan\n206,512\n\n4,167 \n\n95,407\n106,938\n2,437\n935\n19\n1,262,162\n5,715\n220,849,796\n\nAsia\n13\nTurkey\n\n198,613\n\n5,115 \n\n171,809\n21,689\n1,018\n2,355\n61\n3,331,158\n39,500\n84,334,159\n\nAsia\n14\nGermany\n195,392\n\n9,041 \n\n178,100\n8,251\n332\n2,332\n108\n5,412,655\n64,603\n83,783,518\n\nEurope\n15\nSaudi\n          Arabia\n186,436\n\n1,599 \n\n127,118\n57,719\n2,285\n5,356\n46\n1,591,141\n45,710\n34,809,589 \nAsia\n16\nFrance\n\n164,260\n\n29,813 \n\n75,649\n58,798\n634\n2,516\n457\n1,384,633\n21,213\n65,273,353\n\nEurope\n17\nSouth\n          Africa\n144,264\n\n2,529 \n\n70,614\n71,121\n539\n2,433\n43\n1,596,995\n26,929\n59,303,935 \nAfrica\n18\nBangladesh\n141,801\n\n1,783 \n\n57,780\n82,238\n1\n861\n11\n751,034\n4,561\n164,681,180\n\nAsia\n19\nCanada\n\n103,918\n\n8,566 \n\n67,178\n28,174\n2,089\n2,753\n227\n2,721,685\n72,115\n37,740,701\n\nNorth America\n20\nQatar\n\n95,106\n\n113 \n\n80,170\n14,823\n203\n33,872\n40\n352,659\n125,600\n2,807,805 \nAsia\n21\nColombia\n95,043\n\n3,223 \n\n39,954\n51,866\n335\n1,868\n63\n743,437\n14,612\n50,879,986\n\nSouth America\n22\nChina\n\n83,531\n+19\n4,634 \n\n78,469\n428\n7\n58\n3\n90,410,000\n62,814\n1,439,323,776 \nAsia\n23\nSweden\n\n67,667\n\n5,310 \n\nN/A\nN/A\n171\n6,700\n526\n444,607\n44,025\n10,099,069\n\nEurope\n24\nEgypt\n\n66,754\n\n2,872 \n\n17,951\n45,931\n41\n652\n28\n135,000\n1,319\n102,315,827\n\nAfrica\n25\nArgentina\n62,268\n\n1,280 \n\n21,138\n39,850\n457\n1,378\n28\n344,409\n7,621\n45,193,867\n\nSouth America\n26\nBelarus\n61,790\n\n387 \n\n45,213\n16,190\n89\n6,539\n41\n992,007\n104,982\n9,449,322\n\nEurope\n27\nBelgium\n61,361\n\n9,732 \n\n16,941\n34,688\n35\n5,295\n840\n1,191,959\n102,848\n11,589,514\n\nEurope\n28\nEcuador\n55,665\n\n4,502 \n\n27,430\n23,733\n288\n3,155\n255\n145,916\n8,271\n17,640,992\n\nSouth America\n29\nIndonesia\n55,092\n\n2,805 \n\n23,800\n28,487\n\n201\n10\n782,383\n2,861\n273,508,250\n\nAsia\n30\nNetherlands\n50,223\n\n6,107 \n\nN/A\nN/A\n30\n2,931\n356\n599,872\n35,009\n17,134,831\n\nEurope\n31\nUAE\n48,246\n\n314 \n\n37,076\n10,856\n1\n4,878\n32\n3,136,000\n317,098\n9,889,675 \nAsia\n32\nIraq\n47,151\n\n1,839 \n\n22,974\n22,338\n336\n1,173\n46\n532,120\n13,233\n40,212,087 \nAsia\n33\nKuwait\n\n45,524\n\n350 \n\n36,313\n8,861\n145\n10,661\n82\n382,842\n89,656\n4,270,098 \nAsia\n34\nSingapore\n43,661\n\n26 \n\n37,985\n5,650\n1\n7,463\n4\n684,359\n116,981\n5,850,161\n\nAsia\n35\nUkraine\n43,628\n\n1,147 \n\n19,027\n23,454\n83\n998\n26\n649,150\n14,843\n43,732,994\n\nEurope\n36\nPortugal\n41,912\n\n1,568 \n\n27,205\n13,139\n71\n4,110\n154\n1,102,066\n108,081\n10,196,667\n\nEurope\n37\nOman\n39,060\n\n169 \n\n22,422\n16,469\n115\n7,651\n33\n188,291\n36,884\n5,104,919 \nAsia\n38\nPhilippines\n36,438\n\n1,255 \n\n9,956\n25,227\n152\n333\n11\n708,534\n6,466\n109,571,275 \nAsia\n39\nPoland\n\n34,154\n\n1,444 \n\n20,897\n11,813\n86\n902\n38\n1,499,540\n39,622\n37,846,589\n\nEurope\n40\nPanama\n\n32,785\n\n620 \n\n15,595\n16,570\n140\n7,599\n144\n128,795\n29,854\n4,314,225 \nNorth America\n41\nBolivia\n32,125\n+601\n1,071 \n+57\n8,928\n22,126\n71\n2,752\n92\n73,272\n6,278\n11,671,924\n\nSouth America\n42\nDominican Republic\n31,816\n\n733 \n\n17,280\n13,803\n202\n2,933\n68\n148,208\n13,663\n10,847,363 \nNorth America\n43\nSwitzerland\n31,652\n\n1,962 \n\n29,100\n590\n11\n3,657\n227\n566,594\n65,469\n8,654,391\n\nEurope\n44\nAfghanistan\n31,238\n\n733 \n\n13,934\n16,571\n19\n803\n19\n71,549\n1,838\n38,918,200\n\nAsia\n45\nRomania\n26,582\n\n1,634 \n\n18,912\n6,036\n210\n1,382\n85\n699,688\n36,371\n19,237,275\n\nEurope\n46\nBahrain\n26,239\n\n84 \n\n20,928\n5,227\n43\n15,430\n49\n545,125\n320,569\n1,700,493\n\nAsia\n47\nIreland\n25,462\n\n1,735 \n\n23,364\n363\n12\n5,157\n351\n425,030\n86,082\n4,937,476\n\nEurope\n48\nNigeria\n25,133\n\n573 \n\n9,402\n15,158\n7\n122\n3\n132,304\n642\n206,074,234\n\nAfrica\n49\nArmenia\n25,127\n\n433 \n\n13,297\n11,397\n10\n8,480\n146\n110,571\n37,314\n2,963,238\n\nAsia\n50\nIsrael\n\n24,441\n\n319 \n\n17,218\n6,904\n43\n2,657\n35\n962,533\n104,651\n9,197,590 \nAsia\n51\nKazakhstan\n21,819\n+492\n188 \n\n13,008\n8,623\n121\n1,162\n10\n1,517,098\n80,803\n18,775,354\n\nAsia\n52\nHonduras\n18,818\n+736\n485 \n+6\n1,961\n16,372\n58\n1,900\n49\n49,308\n4,979\n9,903,336\n\nNorth America\n53\nJapan\n\n18,476\n\n972 \n\n16,557\n947\n43\n146\n8\n454,609\n3,594\n126,475,881\n\nAsia\n54\nAustria\n17,723\n\n703 \n\n16,420\n600\n8\n1,968\n78\n606,375\n67,328\n9,006,252\n\nEurope\n55\nGuatemala\n17,409\n+479\n746 \n+19\n3,170\n13,493\n5\n972\n42\n31,427\n1,754\n17,912,442\n\nNorth America\n56\nGhana\n\n17,351\n\n112 \n\n12,994\n4,245\n6\n559\n4\n294,867\n9,492\n31,066,005 \nAfrica\n57\nAzerbaijan\n16,968\n\n206 \n\n9,369\n7,393\n66\n1,674\n20\n475,525\n46,902\n10,138,764\n\nAsia\n58\nMoldova\n16,357\n\n536 \n\n9,229\n6,592\n469\n4,055\n133\n63,328\n15,699\n4,033,952\n\nEurope\n59\nSerbia\n\n14,288\n\n274 \n\n12,581\n1,433\n36\n1,635\n31\n393,863\n45,078\n8,737,302 \nEurope\n60\nAlgeria\n13,571\n\n905 \n\n9,674\n2,992\n42\n310\n21\n\n\n43,843,759\n\nAfrica\n61\nNepal\n\n13,248\n\n29 \n\n3,134\n10,085\n\n455\n1.0\n521,501\n17,901\n29,132,006 \nAsia\n62\nS.\n          Korea\n12,800\n+43\n282 \n\n11,537\n981\n15\n250\n6\n1,273,766\n24,845\n51,269,166\n\nAsia\n63\nDenmark\n12,751\n\n605 \n\n11,612\n534\n9\n2,201\n104\n1,040,047\n179,561\n5,792,166\n\nEurope\n64\nCameroon\n12,592\n\n313 \n\n10,100\n2,179\n52\n475\n12\n\n\n26,537,372\n\nAfrica\n65\nMorocco\n12,290\n\n225 \n\n8,833\n3,232\n7\n333\n6\n662,814\n17,959\n36,907,949\n\nAfrica\n66\nCzechia\n11,805\n\n348 \n\n7,746\n3,711\n29\n1,102\n32\n545,973\n50,983\n10,708,963 \nEurope\n\n\nOceania\n\n9,476\n+69\n126\n\n8,599\n751\n1\n\n\n\n\n\nAustralia/Oceania\n67\nSudan\n\n9,257\n\n572 \n\n4,014\n4,671\n\n211\n13\n401\n9\n43,836,957 \nAfrica\n68\nIvory Coast\n9,214\n\n66 \n\n3,996\n5,152\n\n349\n3\n53,938\n2,045\n26,369,926 \nAfrica\n69\nNorway\n\n8,862\n\n249 \n\n8,138\n475\n4\n1,635\n46\n331,935\n61,230\n5,421,075 \nEurope\n70\nMalaysia\n8,637\n\n121 \n\n8,334\n182\n4\n267\n4\n756,171\n23,365\n32,363,319\n\nAsia\n71\nUzbekistan\n8,222\n\n23 \n\n5,496\n2,703\n25\n246\n0.7\n1,121,236\n33,504\n33,465,645\n\nAsia\n72\nAustralia\n7,836\n+69\n104 \n\n7,008\n724\n1\n307\n4\n2,433,468\n95,437\n25,498,156\n\nAustralia/Oceania\n73\nFinland\n7,209\n\n328 \n\n6,600\n281\n1\n1,301\n59\n237,500\n42,865\n5,540,713\n\nEurope\n74\nDRC\n6,939\n\n167 \n\n1,050\n5,722\n\n78\n2\n\n\n89,518,210 \nAfrica\n75\nSenegal\n6,698\n\n108 \n\n4,341\n2,249\n27\n400\n6\n78,438\n4,686\n16,737,908\n\nAfrica\n76\nNorth\n          Macedonia\n6,209\n\n298 \n\n2,427\n3,484\n55\n2,980\n143\n57,895\n27,789\n2,083,374\n\nEurope\n77\nKenya\n\n6,190\n\n144 \n\n2,013\n4,033\n18\n115\n3\n167,417\n3,114\n53,757,902 \nAfrica\n78\nEl\n          Salvador\n6,173\n\n164 \n\n3,648\n2,361\n172\n952\n25\n160,216\n24,701\n6,486,123\n\nNorth America\n79\nHaiti\n\n5,933\n+86\n105 \n+1\n839\n4,989\n\n520\n9\n11,886\n1,042\n11,401,674 \nNorth America\n80\nTajikistan\n5,900\n\n52 \n\n4,506\n1,342\n\n619\n5\n\n\n9,535,173\n\nAsia\n81\nEthiopia\n5,846\n\n103 \n\n2,430\n3,313\n35\n51\n0.9\n250,604\n2,181\n114,927,185\n\nAfrica\n82\nVenezuela\n5,530\n\n48 \n\n1,649\n3,833\n9\n194\n2\n1,240,181\n43,613\n28,435,828\n\nSouth America\n83\nGabon\n\n5,394\n\n42 \n\n2,420\n2,932\n10\n2,424\n19\n37,297\n16,762\n2,225,096 \nAfrica\n84\nGuinea\n\n5,351\n\n31 \n\n4,296\n1,024\n24\n408\n2\n14,407\n1,097\n13,127,786\n\nAfrica\n85\nKyrgyzstan\n5,296\n+279\n57 \n+7\n2,370\n2,869\n30\n812\n9\n212,112\n32,516\n6,523,293\n\nAsia\n86\nBulgaria\n4,831\n\n223 \n\n2,582\n2,026\n31\n695\n32\n138,130\n19,880\n6,948,254\n\nEurope\n87\nDjibouti\n4,656\n\n53 \n\n4,433\n170\n\n4,713\n54\n46,108\n46,673\n987,894 \nAfrica\n88\nBosnia and Herzegovina\n4,325\n\n184 \n\n2,366\n1,775\n4\n1,318\n56\n91,792\n27,979\n3,280,757 \nEurope\n89\nLuxembourg\n4,256\n\n110 \n\n3,997\n149\n2\n6,800\n176\n178,422\n285,067\n625,894\n\nEurope\n90\nMauritania\n4,237\n\n128 \n\n1,497\n2,612\n21\n912\n28\n13,842\n2,978\n4,647,995\n\nAfrica\n91\nHungary\n4,145\n\n585 \n\n2,685\n875\n9\n429\n61\n273,897\n28,353\n9,660,320\n\nEurope\n92\nFrench Guiana\n3,774\n\n15 \n\n1,352\n2,407\n27\n12,640\n50\n8,061\n26,998\n298,578\n\nSouth America\n93\nCAR\n3,613\n\n47 \n\n773\n2,793\n2\n748\n10\n23,208\n4,806\n4,829,024 \nAfrica\n94\nGreece\n\n3,390\n\n191 \n\n1,374\n1,825\n10\n325\n18\n308,392\n29,588\n10,422,933\n\nEurope\n95\nCosta\n          Rica\n3,269\n\n15 \n\n1,394\n1,860\n4\n642\n3\n38,500\n7,558\n5,093,905\n\nNorth America\n96\nThailand\n3,169\n\n58 \n\n3,053\n58\n1\n45\n0.8\n468,175\n6,707\n69,799,761\n\nAsia\n97\nSomalia\n2,904\n\n90 \n\n910\n1,904\n2\n183\n6\n\n\n15,886,799\n\nAfrica\n98\nCroatia\n2,725\n\n107 \n\n2,155\n463\n\n664\n26\n78,183\n19,045\n4,105,191\n\nEurope\n99\nMayotte\n2,560\n\n32 \n\n2,325\n203\n5\n9,386\n117\n8,800\n32,266\n272,733 \nAfrica\n100\nAlbania\n2,466\n\n58 \n\n1,438\n970\n15\n857\n20\n23,283\n8,091\n2,877,795\n\nEurope\n101\nCuba\n2,340\n\n86 \n\n2,211\n43\n\n207\n8\n166,335\n14,685\n11,326,614 \nNorth America\n102\nMaldives\n2,337\n\n8 \n\n1,927\n402\n9\n4,324\n15\n49,338\n91,289\n540,459 \nAsia\n103\nParaguay\n2,191\n\n16 \n\n1,080\n1,095\n4\n307\n2\n68,027\n9,538\n7,131,996\n\nSouth America\n104\nPalestine\n2,185\n\n5 \n\n447\n1,733\n\n428\n1.0\n84,621\n16,592\n5,099,995 \nAsia\n105\nMali\n2,173\n\n115 \n\n1,447\n611\n\n107\n6\n12,807\n633\n20,242,094 \nAfrica\n106\nNicaragua\n2,170\n\n74 \n\n1,238\n858\n\n328\n11\n\n\n6,624,082\n\nNorth America\n107\nMadagascar\n2,138\n\n20 \n\n966\n1,152\n48\n77\n0.7\n21,444\n775\n27,681,556\n\nAfrica\n108\nSri\n          Lanka\n2,039\n\n11 \n\n1,678\n350\n1\n95\n0.5\n101,226\n4,727\n21,413,062\n\nAsia\n109\nEquatorial Guinea\n2,001\n\n32 \n\n515\n1,454\n\n1,427\n23\n16,000\n11,411\n1,402,191 \nAfrica\n110\nSouth\n          Sudan\n1,989\n\n36 \n\n246\n1,707\n1\n178\n3\n10,226\n914\n11,192,950\n\nAfrica\n111\nEstonia\n1,987\n\n69 \n\n1,818\n100\n1\n1,498\n52\n106,022\n79,924\n1,326,535\n\nEurope\n112\nIceland\n1,840\n\n10 \n\n1,818\n12\n\n5,392\n29\n74,424\n218,101\n341,236 \nEurope\n113\nLithuania\n1,816\n\n78 \n\n1,512\n226\n16\n667\n29\n418,368\n153,697\n2,722,035\n\nEurope\n114\nLebanon\n1,745\n\n34 \n\n1,170\n541\n8\n256\n5\n129,668\n18,998\n6,825,378\n\nAsia\n115\nSlovakia\n1,665\n\n28 \n\n1,464\n173\n\n305\n5\n208,966\n38,275\n5,459,641\n\nEurope\n116\nGuinea-Bissau\n1,654\n\n24 \n\n317\n1,313\n5\n841\n12\n1,500\n762\n1,967,435 \nAfrica\n117\nSlovenia\n1,585\n\n111 \n\n1,384\n90\n\n762\n53\n100,613\n48,396\n2,078,938\n\nEurope\n118\nZambia\n\n1,568\n\n22 \n\n1,311\n235\n1\n85\n1\n54,663\n2,975\n18,376,467\n\nAfrica\n119\nNew\n          Zealand\n1,528\n\n22 \n\n1,484\n22\n\n305\n4\n397,470\n79,461\n5,002,100 \nAustralia/Oceania\n120\nSierra Leone\n1,450\n\n60 \n\n961\n429\n\n182\n8\n\n\n7,975,295\n\nAfrica\n121\nHong Kong\n1,204\n\n7 \n\n1,105\n92\n1\n161\n0.9\n321,498\n42,885\n7,496,734 \nAsia\n122\nBenin\n\n1,187\n\n19 \n\n323\n845\n2\n98\n2\n56,290\n4,645\n12,118,896 \nAfrica\n123\nTunisia\n1,172\n\n50 \n\n1,029\n93\n\n99\n4\n69,137\n5,850\n11,817,969\n\nAfrica\n124\nCabo\n          Verde\n1,165\n\n12 \n\n608\n545\n\n2,095\n22\n1,737\n3,124\n555,954\n\nAfrica\n125\nMalawi\n\n1,152\n\n13 \n\n260\n879\n4\n60\n0.7\n13,369\n699\n19,123,346\n\nAfrica\n126\nYemen\n\n1,128\n\n304 \n\n432\n392\n\n38\n10\n120\n4\n29,818,537 \nAsia\n127\nJordan\n\n1,128\n\n9 \n\n867\n252\n3\n111\n0.9\n379,796\n37,225\n10,202,629\n\nAsia\n128\nLatvia\n\n1,117\n\n30 \n\n932\n155\n1\n592\n16\n148,777\n78,881\n1,886,087 \nEurope\n129\nCongo\n\n1,087\n\n37 \n\n456\n594\n\n197\n7\n\n\n5,516,362 \nAfrica\n130\nNiger\n\n1,075\n\n67 \n\n939\n69\n\n44\n3\n6,495\n269\n24,189,901 \nAfrica\n131\nRwanda\n\n1,001\n\n2 \n\n443\n556\n\n77\n0.2\n140,249\n10,832\n12,948,110\n\nAfrica\n132\nCyprus\n\n996\n\n19 \n\n833\n144\n\n825\n16\n155,429\n128,738\n1,207,327 \nAsia\n133\nBurkina Faso\n959\n\n53 \n\n830\n76\n\n46\n3\n\n\n20,895,120 \nAfrica\n134\nUruguay\n932\n\n27 \n\n822\n83\n2\n268\n8\n65,626\n18,892\n3,473,709\n\nSouth America\n135\nGeorgia\n926\n\n15 \n\n791\n120\n5\n232\n4\n101,753\n25,507\n3,989,160\n\nAsia\n136\nMozambique\n883\n\n6 \n\n229\n648\n\n28\n0.2\n29,343\n939\n31,242,694\n\nAfrica\n137\nUganda\n\n870\n\n \n\n808\n62\n\n19\n\n170,789\n3,736\n45,717,147\n\nAfrica\n138\nChad\n866\n\n74 \n\n781\n11\n\n53\n5\n\n\n16,418,830 \nAfrica\n139\nAndorra\n855\n\n52 \n\n799\n4\n\n11,066\n673\n3,750\n48,534\n77,265 \nEurope\n140\nLibya\n\n802\n\n23 \n\n206\n573\n\n117\n3\n26,339\n3,834\n6,870,650 \nAfrica\n141\nEswatini\n795\n\n11 \n\n380\n404\n5\n685\n9\n11,872\n10,234\n1,160,102\n\nAfrica\n142\nLiberia\n770\n\n36 \n\n312\n422\n\n152\n7\n\n\n5,056,243\n\nAfrica\n\n\n\n\n721\n\n15\n\n651\n55\n4\n\n\n\n\n\n\n143\nSao Tome and Principe\n713\n\n13 \n\n235\n465\n\n3,254\n59\n1,783\n8,137\n219,120 \nAfrica\n144\nDiamond Princess\n712\n\n13 \n\n651\n48\n4\n\n\n\n\n \n\n145\nSan\n          Marino\n698\n\n42 \n\n656\n0\n\n20,571\n1,238\n5,669\n167,074\n33,931\n\nEurope\n146\nJamaica\n698\n+2\n10 \n\n553\n135\n\n236\n3\n24,174\n8,164\n2,961,139\n\nNorth America\n147\nMalta\n\n670\n\n9 \n\n639\n22\n\n1,517\n20\n94,564\n214,168\n441,541 \nEurope\n148\nTogo\n643\n\n14 \n\n401\n228\n2\n78\n2\n30,357\n3,668\n8,276,383 \nAfrica\n149\nZimbabwe\n574\n\n7 \n\n152\n415\n\n39\n0.5\n67,105\n4,515\n14,861,330\n\nAfrica\n150\nChannel Islands\n571\n\n47 \n\n512\n12\n\n3,284\n270\n10,255\n58,986\n173,856 \nEurope\n151\nRÃ©union\n522\n\n2 \n\n472\n48\n3\n583\n2\n17,200\n19,212\n895,289 \nAfrica\n152\nTanzania\n509\n\n21 \n\n183\n305\n7\n9\n0.4\n\n\n59,709,026\n\nAfrica\n153\nSuriname\n501\n\n13 \n\n217\n271\n4\n854\n22\n1,244\n2,121\n586,608 \nSouth America\n154\nMontenegro\n501\n\n11 \n\n315\n175\n\n798\n18\n13,186\n20,995\n628,066\n\nEurope\n155\nTaiwan\n\n447\n\n7 \n\n435\n5\n\n19\n0.3\n76,209\n3,200\n23,816,736\n\nAsia\n156\nVietnam\n355\n\n \n\n335\n20\n1\n4\n\n275,000\n2,825\n97,334,632\n\nAsia\n157\nMauritius\n341\n\n10 \n\n326\n5\n\n268\n8\n171,792\n135,081\n1,271,766\n\nAfrica\n158\nIsle\n          of Man\n336\n\n24 \n\n312\n0\n\n3,951\n282\n6,273\n73,772\n85,032\n\nEurope\n159\nMyanmar\n299\n\n6 \n\n221\n72\n\n5\n0.1\n74,978\n1,378\n54,408,580\n\nAsia\n160\nAngola\n\n276\n\n11 \n\n93\n172\n6\n8\n0.3\n10,000\n304\n32,849,655\n\nAfrica\n161\nComoros\n272\n\n7 \n\n161\n104\n\n313\n8\n\n\n869,399 \nAfrica\n162\nSyria\n\n269\n\n9 \n\n102\n158\n\n15\n0.5\n\n\n17,495,333 \nAsia\n163\nMartinique\n242\n\n14 \n\n98\n130\n\n645\n37\n\n\n375,265\n\nNorth America\n164\nGuyana\n\n235\n\n12 \n\n114\n109\n1\n299\n15\n2,552\n3,245\n786,543 \nSouth America\n165\nMongolia\n220\n\n \n\n175\n45\n9\n67\n\n22,532\n6,874\n3,277,858\n\nAsia\n166\nCayman Islands\n199\n\n1 \n\n189\n9\n\n3,028\n15\n23,280\n354,246\n65,717\n\nNorth America\n167\nNamibia\n196\n\n \n\n24\n172\n1\n77\n\n8,913\n3,508\n2,540,480\n\nAfrica\n168\nEritrea\n191\n\n \n\n53\n138\n\n54\n\n\n\n3,546,078\n\nAfrica\n169\nFaeroe Islands\n187\n\n \n\n187\n0\n\n3,827\n\n13,177\n269,672\n48,863\n\nEurope\n170\nGuadeloupe\n182\n\n14 \n\n157\n11\n2\n455\n35\n8,239\n20,591\n400,124\n\nNorth America\n171\nGibraltar\n177\n\n \n\n176\n1\n\n5,254\n\n12,743\n378,232\n33,691 \nEurope\n172\nBotswana\n175\n\n1 \n\n25\n149\n1\n74\n0.4\n36,868\n15,681\n2,351,137\n\nAfrica\n173\nBurundi\n170\n\n1 \n\n115\n54\n\n14\n0.08\n493\n41\n11,885,287\n\nAfrica\n174\nBermuda\n146\n\n9 \n\n135\n2\n1\n2,344\n145\n11,298\n181,412\n62,278 \nNorth America\n175\nBrunei \n141\n\n3 \n\n138\n0\n\n322\n7\n29,111\n66,546\n437,459 \nAsia\n176\nCambodia\n141\n\n \n\n130\n11\n1\n8\n\n36,104\n2,160\n16,717,346\n\nAsia\n177\nTrinidad and Tobago\n126\n\n8 \n\n109\n9\n\n90\n6\n4,969\n3,551\n1,399,481 \nNorth America\n178\nBahamas\n104\n\n11 \n\n87\n6\n1\n264\n28\n2,388\n6,073\n393,226 \nNorth America\n179\nMonaco\n\n103\n\n4 \n\n95\n4\n\n2,625\n102\n16,200\n412,834\n39,241 \nEurope\n180\nAruba\n\n103\n\n3 \n\n98\n2\n\n965\n28\n2,412\n22,592\n106,765 \nNorth America\n181\nBarbados\n97\n\n7 \n\n90\n0\n1\n338\n24\n7,770\n27,038\n287,375 \nNorth America\n182\nLiechtenstein\n82\n\n1 \n\n81\n0\n\n2,151\n26\n900\n23,605\n38,128\n\nEurope\n183\nSint\n          Maarten\n77\n\n15 \n\n62\n0\n\n1,796\n350\n500\n11,662\n42,873\n\nNorth America\n184\nBhutan\n\n77\n+1\n \n\n44\n33\n\n100\n\n24,509\n31,765\n771,561 \nAsia\n185\nSeychelles\n77\n\n \n\n11\n66\n\n783\n\n\n\n98,345\n\nAfrica\n186\nAntigua and Barbuda\n69\n\n3 \n\n22\n44\n1\n705\n31\n680\n6,944\n97,926 \nNorth America\n187\nFrench Polynesia\n62\n\n \n\n60\n2\n\n221\n\n4,649\n16,550\n280,903 \nAustralia/Oceania\n188\nGambia\n\n47\n\n2 \n\n26\n19\n\n19\n0.8\n2,117\n876\n2,415,677 \nAfrica\n189\nMacao\n46\n\n \n\n45\n1\n\n71\n\n\n\n649,274 \nAsia\n190\nSaint\n          Martin\n43\n\n3 \n\n37\n3\n1\n1,112\n78\n685\n17,719\n38,660\n\nNorth America\n191\nTurks and Caicos\n41\n\n1 \n\n11\n29\n\n1,059\n26\n647\n16,713\n38,713 \nNorth America\n192\nSt. Vincent Grenadines\n29\n\n \n\n29\n0\n\n261\n\n844\n7,608\n110,939 \nNorth America\n193\nLesotho\n27\n\n \n\n4\n23\n\n13\n\n3,000\n1,400\n2,142,182\n\nAfrica\n194\nBelize\n\n24\n\n2 \n\n18\n4\n\n60\n5\n2,188\n5,504\n397,561 \nNorth America\n195\nTimor-Leste\n24\n\n \n\n24\n0\n\n18\n\n1,568\n1,189\n1,318,201\n\nAsia\n196\nCuraÃ§ao\n23\n\n1 \n\n19\n3\n\n140\n6\n1,080\n6,582\n164,092 \nNorth America\n197\nGrenada\n23\n\n \n\n23\n0\n\n204\n\n5,465\n48,568\n112,522 \nNorth America\n198\nNew\n          Caledonia\n21\n\n \n\n21\n0\n\n74\n\n8,406\n29,445\n285,485\n\nAustralia/Oceania\n199\nLaos\n19\n\n \n\n19\n0\n\n3\n\n14,907\n2,049\n7,274,785 \nAsia\n200\nSaint\n          Lucia\n19\n\n \n\n19\n0\n\n103\n\n1,667\n9,078\n183,625\n\nNorth America\n201\nDominica\n18\n\n \n\n18\n0\n\n250\n\n623\n8,654\n71,986 \nNorth America\n202\nFiji\n18\n\n \n\n18\n0\n\n20\n\n4,000\n4,462\n896,422 \nAustralia/Oceania\n203\nSaint Kitts and Nevis\n15\n\n \n\n15\n0\n\n282\n\n454\n8,534\n53,198 \nNorth America\n204\nFalkland Islands\n13\n\n \n\n13\n0\n\n3,738\n\n1,027\n295,285\n3,478 \nSouth America\n205\nGreenland\n13\n\n \n\n13\n0\n\n229\n\n3,502\n61,688\n56,770 \nNorth America\n206\nVatican\n          City\n12\n\n \n\n12\n0\n\n14,981\n\n\n\n801 \nEurope\n207\nMontserrat\n11\n\n1 \n\n10\n0\n\n2,204\n200\n61\n12,220\n4,992 \nNorth America\n208\nPapua New Guinea\n11\n\n \n\n8\n3\n\n1\n\n5,637\n630\n8,945,385 \nAustralia/Oceania\n209\nWestern Sahara\n10\n\n1 \n\n8\n1\n\n17\n2\n\n\n597,153\n\nAfrica\n210\nMS Zaandam\n9\n\n2 \n\n\n7\n\n\n\n\n\n \n\n211\nBritish Virgin Islands\n8\n\n1 \n\n7\n0\n\n265\n33\n212\n7,013\n30,230 \nNorth America\n212\nCaribbean Netherlands\n7\n\n \n\n7\n0\n\n267\n\n424\n16,170\n26,222 \nNorth America\n213\nSt. Barth\n6\n\n \n\n6\n0\n\n607\n\n152\n15,389\n9,877\n\nNorth America\n214\nAnguilla\n3\n\n \n\n3\n0\n\n200\n\n180\n11,998\n15,002 \nNorth America\n215\nSaint Pierre Miquelon\n1\n\n \n\n1\n0\n\n173\n\n\n\n5,794 \nNorth America\n\nTotal:\n3,129,426\n+5,108\n167,602\n+499\n1,364,791\n+4,578\n1,597,033\n18,919\n\n\n\n\n\nNorth America\n \n\n\n\nTotal:\n2,187,129\n+601\n83,671\n+57\n1,267,472\n+411\n835,986\n12,789\n\n\n\n\n\nSouth America\n \n\n\n\nTotal:\n2,429,234\n\n191,026\n\n1,356,945\n\n881,263\n5,753\n\n\n\n\n\nEurope\n \n\n\n\nTotal:\n2,257,218\n+834\n55,737\n+7\n1,476,389\n+193\n725,092\n19,140\n\n\n\n\n\nAsia\n \n\n\n\nTotal:\n396,314\n\n9,914\n\n189,722\n\n196,678\n924\n\n\n\n\n\nAfrica\n \n\n\n\nTotal:\n9,476\n+69\n126\n\n8,599\n\n751\n1\n\n\n\n\n\nAustralia/Oceania\n \n\n\n\nTotal:\n721\n\n15\n\n651\n\n55\n4\n\n\n\n\n\n\n \n\n\n"
    }
   ],
   "source": [
    "data = []\n",
    "for element in HTML_data: \n",
    "    sub_data = [] \n",
    "    for sub_element in element: \n",
    "        try: \n",
    "            print(sub_element.get_text()) \n",
    "        except: \n",
    "            continue\n",
    "    #data.append(sub_data)"
   ]
  },
  {
   "cell_type": "code",
   "execution_count": 9,
   "metadata": {},
   "outputs": [],
   "source": [
    "data = []\n",
    "for element in HTML_data: \n",
    "    sub_data = [] \n",
    "    for sub_element in element: \n",
    "        try: \n",
    "            sub_data.append(sub_element.get_text()) \n",
    "        except: \n",
    "            continue\n",
    "    data.append(sub_data)"
   ]
  },
  {
   "cell_type": "code",
   "execution_count": 10,
   "metadata": {},
   "outputs": [],
   "source": [
    "# Storing the data into Pandas \n",
    "# DataFrame  \n",
    "dataFrame = pd.DataFrame(data = data)"
   ]
  },
  {
   "cell_type": "code",
   "execution_count": 11,
   "metadata": {},
   "outputs": [
    {
     "output_type": "execute_result",
     "data": {
      "text/plain": "     0                  1          2     3         4    5          6  \\\n0    1                USA  2,681,811        128,783        1,117,177   \n1              \\nEurope\\n  2,429,234         191,026       1,356,945   \n2                \\nAsia\\n  2,257,218  +834    55,737   +7  1,476,389   \n3       \\nSouth America\\n  2,187,129  +601    83,671  +57  1,267,472   \n4    2           Brazil\\n  1,370,488         58,385          757,462   \n..  ..                ...        ...   ...       ...  ...        ...   \n223                Total:  2,429,234         191,026       1,356,945   \n224                Total:  2,257,218  +834    55,737   +7  1,476,389   \n225                Total:    396,314           9,914         189,722   \n226                Total:      9,476   +69       126           8,599   \n227                Total:        721              15             651   \n\n             7        8       9   10          11       12             13  \\\n0    1,435,851   15,864   8,102  389  33,189,513  100,271   330,996,984    \n1      881,263    5,753                                                    \n2      725,092   19,140                                                    \n3      835,986   12,789                                                    \n4      554,641    8,318   6,448  275   3,070,447   14,445  212,554,056\\n   \n..         ...      ...     ...  ...         ...      ...            ...   \n223             881,263   5,753                                            \n224       +193  725,092  19,140                                            \n225             196,678     924                                            \n226                 751       1                                            \n227                  55       4                                            \n\n                14                 15    16    17    18  \n0    North America               None  None  None  None  \n1           Europe               None  None  None  None  \n2             Asia               None  None  None  None  \n3    South America               None  None  None  None  \n4    South America               None  None  None  None  \n..             ...                ...   ...   ...   ...  \n223                            Europe                    \n224                              Asia                    \n225                            Africa                    \n226                 Australia/Oceania                    \n227                                                      \n\n[228 rows x 19 columns]",
      "text/html": "<div>\n<style scoped>\n    .dataframe tbody tr th:only-of-type {\n        vertical-align: middle;\n    }\n\n    .dataframe tbody tr th {\n        vertical-align: top;\n    }\n\n    .dataframe thead th {\n        text-align: right;\n    }\n</style>\n<table border=\"1\" class=\"dataframe\">\n  <thead>\n    <tr style=\"text-align: right;\">\n      <th></th>\n      <th>0</th>\n      <th>1</th>\n      <th>2</th>\n      <th>3</th>\n      <th>4</th>\n      <th>5</th>\n      <th>6</th>\n      <th>7</th>\n      <th>8</th>\n      <th>9</th>\n      <th>10</th>\n      <th>11</th>\n      <th>12</th>\n      <th>13</th>\n      <th>14</th>\n      <th>15</th>\n      <th>16</th>\n      <th>17</th>\n      <th>18</th>\n    </tr>\n  </thead>\n  <tbody>\n    <tr>\n      <th>0</th>\n      <td>1</td>\n      <td>USA</td>\n      <td>2,681,811</td>\n      <td></td>\n      <td>128,783</td>\n      <td></td>\n      <td>1,117,177</td>\n      <td>1,435,851</td>\n      <td>15,864</td>\n      <td>8,102</td>\n      <td>389</td>\n      <td>33,189,513</td>\n      <td>100,271</td>\n      <td>330,996,984</td>\n      <td>North America</td>\n      <td>None</td>\n      <td>None</td>\n      <td>None</td>\n      <td>None</td>\n    </tr>\n    <tr>\n      <th>1</th>\n      <td></td>\n      <td>\\nEurope\\n</td>\n      <td>2,429,234</td>\n      <td></td>\n      <td>191,026</td>\n      <td></td>\n      <td>1,356,945</td>\n      <td>881,263</td>\n      <td>5,753</td>\n      <td></td>\n      <td></td>\n      <td></td>\n      <td></td>\n      <td></td>\n      <td>Europe</td>\n      <td>None</td>\n      <td>None</td>\n      <td>None</td>\n      <td>None</td>\n    </tr>\n    <tr>\n      <th>2</th>\n      <td></td>\n      <td>\\nAsia\\n</td>\n      <td>2,257,218</td>\n      <td>+834</td>\n      <td>55,737</td>\n      <td>+7</td>\n      <td>1,476,389</td>\n      <td>725,092</td>\n      <td>19,140</td>\n      <td></td>\n      <td></td>\n      <td></td>\n      <td></td>\n      <td></td>\n      <td>Asia</td>\n      <td>None</td>\n      <td>None</td>\n      <td>None</td>\n      <td>None</td>\n    </tr>\n    <tr>\n      <th>3</th>\n      <td></td>\n      <td>\\nSouth America\\n</td>\n      <td>2,187,129</td>\n      <td>+601</td>\n      <td>83,671</td>\n      <td>+57</td>\n      <td>1,267,472</td>\n      <td>835,986</td>\n      <td>12,789</td>\n      <td></td>\n      <td></td>\n      <td></td>\n      <td></td>\n      <td></td>\n      <td>South America</td>\n      <td>None</td>\n      <td>None</td>\n      <td>None</td>\n      <td>None</td>\n    </tr>\n    <tr>\n      <th>4</th>\n      <td>2</td>\n      <td>Brazil\\n</td>\n      <td>1,370,488</td>\n      <td></td>\n      <td>58,385</td>\n      <td></td>\n      <td>757,462</td>\n      <td>554,641</td>\n      <td>8,318</td>\n      <td>6,448</td>\n      <td>275</td>\n      <td>3,070,447</td>\n      <td>14,445</td>\n      <td>212,554,056\\n</td>\n      <td>South America</td>\n      <td>None</td>\n      <td>None</td>\n      <td>None</td>\n      <td>None</td>\n    </tr>\n    <tr>\n      <th>...</th>\n      <td>...</td>\n      <td>...</td>\n      <td>...</td>\n      <td>...</td>\n      <td>...</td>\n      <td>...</td>\n      <td>...</td>\n      <td>...</td>\n      <td>...</td>\n      <td>...</td>\n      <td>...</td>\n      <td>...</td>\n      <td>...</td>\n      <td>...</td>\n      <td>...</td>\n      <td>...</td>\n      <td>...</td>\n      <td>...</td>\n      <td>...</td>\n    </tr>\n    <tr>\n      <th>223</th>\n      <td></td>\n      <td>Total:</td>\n      <td>2,429,234</td>\n      <td></td>\n      <td>191,026</td>\n      <td></td>\n      <td>1,356,945</td>\n      <td></td>\n      <td>881,263</td>\n      <td>5,753</td>\n      <td></td>\n      <td></td>\n      <td></td>\n      <td></td>\n      <td></td>\n      <td>Europe</td>\n      <td></td>\n      <td></td>\n      <td></td>\n    </tr>\n    <tr>\n      <th>224</th>\n      <td></td>\n      <td>Total:</td>\n      <td>2,257,218</td>\n      <td>+834</td>\n      <td>55,737</td>\n      <td>+7</td>\n      <td>1,476,389</td>\n      <td>+193</td>\n      <td>725,092</td>\n      <td>19,140</td>\n      <td></td>\n      <td></td>\n      <td></td>\n      <td></td>\n      <td></td>\n      <td>Asia</td>\n      <td></td>\n      <td></td>\n      <td></td>\n    </tr>\n    <tr>\n      <th>225</th>\n      <td></td>\n      <td>Total:</td>\n      <td>396,314</td>\n      <td></td>\n      <td>9,914</td>\n      <td></td>\n      <td>189,722</td>\n      <td></td>\n      <td>196,678</td>\n      <td>924</td>\n      <td></td>\n      <td></td>\n      <td></td>\n      <td></td>\n      <td></td>\n      <td>Africa</td>\n      <td></td>\n      <td></td>\n      <td></td>\n    </tr>\n    <tr>\n      <th>226</th>\n      <td></td>\n      <td>Total:</td>\n      <td>9,476</td>\n      <td>+69</td>\n      <td>126</td>\n      <td></td>\n      <td>8,599</td>\n      <td></td>\n      <td>751</td>\n      <td>1</td>\n      <td></td>\n      <td></td>\n      <td></td>\n      <td></td>\n      <td></td>\n      <td>Australia/Oceania</td>\n      <td></td>\n      <td></td>\n      <td></td>\n    </tr>\n    <tr>\n      <th>227</th>\n      <td></td>\n      <td>Total:</td>\n      <td>721</td>\n      <td></td>\n      <td>15</td>\n      <td></td>\n      <td>651</td>\n      <td></td>\n      <td>55</td>\n      <td>4</td>\n      <td></td>\n      <td></td>\n      <td></td>\n      <td></td>\n      <td></td>\n      <td></td>\n      <td></td>\n      <td></td>\n      <td></td>\n    </tr>\n  </tbody>\n</table>\n<p>228 rows × 19 columns</p>\n</div>"
     },
     "metadata": {},
     "execution_count": 11
    }
   ],
   "source": [
    "dataFrame"
   ]
  },
  {
   "cell_type": "code",
   "execution_count": 49,
   "metadata": {},
   "outputs": [
    {
     "output_type": "execute_result",
     "data": {
      "text/plain": "['#',\n 'Country,Other',\n 'TotalCases',\n 'NewCases',\n 'TotalDeaths',\n 'NewDeaths',\n 'TotalRecovered',\n 'ActiveCases',\n 'Serious,Critical',\n 'Tot\\xa0Cases/1M pop',\n 'Deaths/1M pop',\n 'TotalTests',\n 'Tests/\\n1M pop\\n',\n 'Population',\n 'Continent']"
     },
     "metadata": {},
     "execution_count": 49
    }
   ],
   "source": [
    "list_header"
   ]
  },
  {
   "cell_type": "code",
   "execution_count": null,
   "metadata": {},
   "outputs": [],
   "source": [
    "dataFrame.columns = ['car_names', 'mpg', 'cyl', 'disp', 'hp', 'drat', 'wt', 'qsec', 'vs', 'am', 'gear', 'carb']"
   ]
  }
 ],
 "metadata": {
  "kernelspec": {
   "display_name": "Python 3",
   "language": "python",
   "name": "python3"
  },
  "language_info": {
   "codemirror_mode": {
    "name": "ipython",
    "version": 3
   },
   "file_extension": ".py",
   "mimetype": "text/x-python",
   "name": "python",
   "nbconvert_exporter": "python",
   "pygments_lexer": "ipython3",
   "version": "3.7.7-final"
  }
 },
 "nbformat": 4,
 "nbformat_minor": 1
}